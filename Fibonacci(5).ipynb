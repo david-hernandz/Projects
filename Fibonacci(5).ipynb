{
 "cells": [
  {
   "cell_type": "code",
   "execution_count": 1,
   "id": "6a1c1f61-6d77-4a03-a86f-4f2c89f6f67e",
   "metadata": {},
   "outputs": [
    {
     "name": "stdout",
     "output_type": "stream",
     "text": [
      "4613732\n"
     ]
    }
   ],
   "source": [
    "num =1\n",
    "next_num = 2\n",
    "total_even = 0\n",
    "while num <= 4000000:\n",
    "    if num % 2 == 0:\n",
    "        total_even = total_even + num\n",
    "    num, next_num = next_num, num + next_num\n",
    "\n",
    "print (total_even)"
   ]
  },
  {
   "cell_type": "code",
   "execution_count": null,
   "id": "403f5331-adca-4aba-98ae-5756dcdd58a3",
   "metadata": {},
   "outputs": [],
   "source": []
  }
 ],
 "metadata": {
  "kernelspec": {
   "display_name": "Python 3 (ipykernel)",
   "language": "python",
   "name": "python3"
  },
  "language_info": {
   "codemirror_mode": {
    "name": "ipython",
    "version": 3
   },
   "file_extension": ".py",
   "mimetype": "text/x-python",
   "name": "python",
   "nbconvert_exporter": "python",
   "pygments_lexer": "ipython3",
   "version": "3.11.1"
  }
 },
 "nbformat": 4,
 "nbformat_minor": 5
}
