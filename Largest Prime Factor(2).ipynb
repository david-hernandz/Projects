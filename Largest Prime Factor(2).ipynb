{
 "cells": [
  {
   "cell_type": "code",
   "execution_count": 4,
   "id": "c7d3769f-39f4-45c2-a9b4-0521c4f6cc59",
   "metadata": {},
   "outputs": [
    {
     "name": "stdout",
     "output_type": "stream",
     "text": [
      "6857\n"
     ]
    }
   ],
   "source": [
    "def largest_prime_factor(n):\n",
    "    i = 2 # Smallest prime even number\n",
    "    while i * i <= n:\n",
    "        if n % i: #if n is evenly divisible by i, then the iteration continues until it is not evenly disvisible\n",
    "            i += 1\n",
    "        else:\n",
    "            n //= i\n",
    "    return n  \n",
    "\n",
    "number_to_factor = 600851475143\n",
    "result = largest_prime_factor(number_to_factor)\n",
    "print(result)"
   ]
  },
  {
   "cell_type": "code",
   "execution_count": null,
   "id": "57512691-dab5-4002-a895-d5d95c31f51a",
   "metadata": {},
   "outputs": [],
   "source": []
  },
  {
   "cell_type": "code",
   "execution_count": null,
   "id": "c688dfa6-0846-4715-a1d2-061b2bb65c68",
   "metadata": {},
   "outputs": [],
   "source": []
  }
 ],
 "metadata": {
  "kernelspec": {
   "display_name": "Python 3 (ipykernel)",
   "language": "python",
   "name": "python3"
  },
  "language_info": {
   "codemirror_mode": {
    "name": "ipython",
    "version": 3
   },
   "file_extension": ".py",
   "mimetype": "text/x-python",
   "name": "python",
   "nbconvert_exporter": "python",
   "pygments_lexer": "ipython3",
   "version": "3.11.1"
  }
 },
 "nbformat": 4,
 "nbformat_minor": 5
}
