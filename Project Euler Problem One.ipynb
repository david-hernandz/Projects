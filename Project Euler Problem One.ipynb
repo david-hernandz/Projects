{
 "cells": [
  {
   "cell_type": "code",
   "execution_count": 52,
   "id": "3db5b41d-15a8-47c4-8e51-13037eaeb7d7",
   "metadata": {},
   "outputs": [
    {
     "name": "stdout",
     "output_type": "stream",
     "text": [
      "233168\n"
     ]
    }
   ],
   "source": [
    "import numpy as np\n",
    "data = np.arange(1000)\n",
    "print(sum([j for j in data if (j % 3 ==0) or (j %5==0)]))"
   ]
  },
  {
   "cell_type": "code",
   "execution_count": null,
   "id": "cf348a16-c40f-43e2-b448-524010c290d8",
   "metadata": {},
   "outputs": [],
   "source": []
  },
  {
   "cell_type": "code",
   "execution_count": null,
   "id": "8418cf1a-f8f1-4b6e-b545-f908139f2bd1",
   "metadata": {},
   "outputs": [],
   "source": []
  }
 ],
 "metadata": {
  "kernelspec": {
   "display_name": "Python 3 (ipykernel)",
   "language": "python",
   "name": "python3"
  },
  "language_info": {
   "codemirror_mode": {
    "name": "ipython",
    "version": 3
   },
   "file_extension": ".py",
   "mimetype": "text/x-python",
   "name": "python",
   "nbconvert_exporter": "python",
   "pygments_lexer": "ipython3",
   "version": "3.11.1"
  }
 },
 "nbformat": 4,
 "nbformat_minor": 5
}
